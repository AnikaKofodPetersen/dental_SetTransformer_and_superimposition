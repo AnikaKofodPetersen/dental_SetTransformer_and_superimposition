{
 "cells": [
  {
   "cell_type": "markdown",
   "id": "ae5a50f8-8f4e-4055-a83d-84ab83bb31de",
   "metadata": {},
   "source": [
    "# Using SetTransformer on HVD "
   ]
  },
  {
   "cell_type": "code",
   "execution_count": 2,
   "id": "71a90a37-1632-404d-a480-df9c05ec19dc",
   "metadata": {},
   "outputs": [
    {
     "name": "stdout",
     "output_type": "stream",
     "text": [
      "CUDA available: True\n"
     ]
    }
   ],
   "source": [
    "# Imports\n",
    "import os\n",
    "import torch\n",
    "import torch.nn as nn\n",
    "import torch.nn.functional as F\n",
    "from modules_set_transformer import SAB, PMA, ISAB\n",
    "import numpy as np\n",
    "import matplotlib.pyplot as plt\n",
    "import os\n",
    "import json\n",
    "import random\n",
    "from torch.utils.data import Dataset, DataLoader\n",
    "from torch.nn.utils.rnn import pad_sequence\n",
    "import time\n",
    "import matplotlib.pyplot as plt\n",
    "from sklearn import metrics\n",
    "from sklearn.utils.class_weight import compute_class_weight\n",
    "from sklearn.metrics import matthews_corrcoef as MCC\n",
    "from sklearn.preprocessing import normalize\n",
    "from sklearn.metrics import accuracy_score\n",
    "import warnings\n",
    "import time\n",
    "import lightning as L\n",
    "import torchmetrics\n",
    "\n",
    "# Define paths\n",
    "out_path = \"/path/to/results/\"\n",
    "data_path1 = \"/path/to/data1/\"\n",
    "data_path2 = \"/path/to/data2/\"\n",
    "params_path = \"/path/to/SetTransformer_stateDict.pt\"\n",
    "logfile = out_path+\"log_file.txt\"\n",
    "dump_file = out_path+\"Result_dump_file.json\"\n",
    "\n",
    "# Prepare for log\n",
    "def write_log(message, log_file):\n",
    "    with open(log_file,\"a\") as log:\n",
    "        log.write(message+\"\\n\")\n",
    "\n",
    "# Check CUDA\n",
    "warnings.filterwarnings(\"error\")\n",
    "device = torch.device('cuda:0' if torch.cuda.is_available() else \"cpu\")\n",
    "with open(logfile,\"w+\"):\n",
    "    pass\n",
    "write_log(f\"CUDA available: {torch.cuda.is_available()}\",logfile)\n",
    "print(f\"CUDA available: {torch.cuda.is_available()}\")\n",
    "write_log(f\"Device: {device}\",logfile)\n",
    "if device.type == 'cuda':\n",
    "    write_log(f\"Device name: {torch.cuda.get_device_name(0)}\",logfile)"
   ]
  },
  {
   "cell_type": "code",
   "execution_count": null,
   "id": "4fcd5b38-bb8b-4005-a3f5-db45dd3f494e",
   "metadata": {},
   "outputs": [],
   "source": []
  },
  {
   "cell_type": "code",
   "execution_count": 3,
   "id": "478ed595-c47b-4da5-b9e5-e7765a0802fb",
   "metadata": {},
   "outputs": [],
   "source": [
    "class SetTransformer(nn.Module):\n",
    "    def __init__(self, dim_input, num_outputs, dim_output,\n",
    "            num_inds=16, dim_hidden=64, num_heads=4, ln=False):\n",
    "        super(SetTransformer, self).__init__()\n",
    "        self.enc = nn.Sequential(\n",
    "                ISAB(dim_input, dim_hidden, num_heads, num_inds, ln=ln))\n",
    "        self.dec = nn.Sequential(\n",
    "                PMA(dim_hidden, num_heads, num_outputs, ln=ln),\n",
    "                SAB(dim_hidden, dim_hidden, num_heads, ln=ln),\n",
    "                #nn.Dropout(p=0.1),\n",
    "                nn.Linear(dim_hidden, dim_output),\n",
    "                nn.Softmax(dim=1))\n",
    "\n",
    "    def forward(self, X):\n",
    "        enc_dec = self.dec(self.enc(X))\n",
    "        \n",
    "        return torch.squeeze(enc_dec)\n",
    "        "
   ]
  },
  {
   "cell_type": "code",
   "execution_count": 4,
   "id": "bfacf658-d6b7-407d-b4df-08d695af4663",
   "metadata": {},
   "outputs": [],
   "source": [
    "def label_checker(path1,path2):\n",
    "    id1 = path1.split(\"/\")[-1].split(\"_\")[0]\n",
    "    id2 = path2.split(\"/\")[-1].split(\"_\")[0]\n",
    "    \n",
    "    cut1 = path1.split(\"/\")[-1].split(\"_\")[-1]\n",
    "    cut2 = path2.split(\"/\")[-1].split(\"_\")[-1]\n",
    "\n",
    "    if id1 == id2:\n",
    "        jaw1 = path1.split(\"/\")[-1].split(\"_\")[-2]\n",
    "        jaw2 = path2.split(\"/\")[-1].split(\"_\")[-2]\n",
    "        if jaw1 == jaw2:\n",
    "            if cut1 == cut2 or cut1 == \"f0\" or cut2 == \"f0\":\n",
    "                return torch.tensor([float(1),float(0)])\n",
    "            elif cut1 == \"p1\" and cut2 in [\"p1\",\"p3\",\"p4\"]:\n",
    "                return torch.tensor([float(1),float(0)])\n",
    "            elif cut1 == \"p2\" and cut2 in [\"p2\",\"p3\",\"p4\"]:\n",
    "                return torch.tensor([float(1),float(0)])\n",
    "            elif cut1 == \"p3\" and cut2 in [\"p1\",\"p2\",\"p3\"]:\n",
    "                return torch.tensor([float(1),float(0)])\n",
    "            elif cut1 == \"p4\" and cut2 in [\"p1\",\"p2\",\"p4\"]:\n",
    "                return torch.tensor([float(1),float(0)])\n",
    "            else:\n",
    "                return torch.tensor([float(0),float(1)])\n",
    "        else:\n",
    "            return torch.tensor([float(0),float(1)])\n",
    "    else:\n",
    "        return torch.tensor([float(0),float(1)])\n"
   ]
  },
  {
   "cell_type": "code",
   "execution_count": 5,
   "id": "f0bab9fb-ded5-4299-8d33-7ccb40b229f2",
   "metadata": {},
   "outputs": [],
   "source": [
    "# Define dataset class\n",
    "class SHOTDataset(Dataset):\n",
    "    def __init__(self, in_path, data_pairs):\n",
    "        super(SHOTDataset, self).__init__()\n",
    "        self.in_path = in_path\n",
    "        self.data_pairs = data_pairs\n",
    "\n",
    "    def __getitem__(self, idx):\n",
    "\n",
    "        #Get json dicts\n",
    "        #path1, path2 = os.path.join(self.in_path,self.data_pairs[idx][0]),os.path.join(self.in_path,self.data_pairs[idx][1])\n",
    "        path1, path2 = self.data_pairs[idx][0], self.data_pairs[idx][1]\n",
    "        with open(path1,\"rb\") as d1:\n",
    "            data1 = json.load(d1)\n",
    "            \n",
    "        with open(path2,\"rb\") as d2:\n",
    "            data2 = json.load(d2)\n",
    "\n",
    "        # Normalize shot\n",
    "        device = torch.device('cuda:0' if torch.cuda.is_available() else \"cpu\")\n",
    "        #data1 = data1.to(device)\n",
    "        #data2 = data2.to(device)\n",
    "        data1_n = torch.tensor(normalize(list(data1.values()),axis=1)).to(device)\n",
    "        data2_n = torch.tensor(normalize(list(data2.values()),axis=1)).to(device)\n",
    "        \n",
    "        data_n = torch.cat((data1_n, data2_n), dim=0).to(dtype=torch.float32, device=device)\n",
    "       \n",
    "        # Get label\n",
    "        label = label_checker(path1,path2).to(device)\n",
    "        \n",
    "        return data_n, label\n",
    "            \n",
    "    def  __len__(self):\n",
    "        return len(self.data_pairs)"
   ]
  },
  {
   "cell_type": "code",
   "execution_count": 6,
   "id": "2298072b-5906-4541-94c1-e60adbf00e5e",
   "metadata": {},
   "outputs": [],
   "source": [
    "def my_collate_fn(data):\n",
    "\n",
    "\n",
    "    # maximum number of rows among the tensors\n",
    "    max_rows = max(batch[0].shape[0] for batch in data)\n",
    "  \n",
    "    # Padding to make sizes compatible\n",
    "    padded_data = [F.pad(batch[0], (0,0,0,max_rows - batch[0].size(0))) for batch in data]\n",
    "  \n",
    "    # Stack padded tensors\n",
    "    x_data = torch.stack(padded_data, dim=0)\n",
    "\n",
    "    # New data formatiing\n",
    "    device = torch.device('cuda:0' if torch.cuda.is_available() else \"cpu\")\n",
    "    out_data = (x_data, torch.tensor([data[batch][1] for batch in range(len(data))]).to(device))\n",
    "\n",
    "    return out_data\n",
    "\n"
   ]
  },
  {
   "cell_type": "code",
   "execution_count": 7,
   "id": "9839f557-6132-4f6e-a916-470f2fbec85c",
   "metadata": {},
   "outputs": [],
   "source": [
    "def my_collate_fn(data):\n",
    "    \n",
    "    tensors, targets = zip(*data)\n",
    "    features = pad_sequence(tensors, batch_first=True)\n",
    "    targets = torch.stack(targets)\n",
    "    \n",
    "    return features, targets\n",
    "\n"
   ]
  },
  {
   "cell_type": "code",
   "execution_count": null,
   "id": "9c062840-82b8-4056-be8d-b7aacaa2b0a8",
   "metadata": {},
   "outputs": [],
   "source": []
  },
  {
   "cell_type": "code",
   "execution_count": null,
   "id": "d5f21cf7-64ab-43fb-bc94-200697043a87",
   "metadata": {},
   "outputs": [],
   "source": []
  },
  {
   "cell_type": "code",
   "execution_count": 8,
   "id": "cb3f4b8f-f4ec-4ab8-8c84-871dc66cd314",
   "metadata": {},
   "outputs": [
    {
     "name": "stdout",
     "output_type": "stream",
     "text": [
      "1020 / 1020\r"
     ]
    }
   ],
   "source": [
    "# All data files\n",
    "data1 = os.listdir(data_path1)\n",
    "data1 = [data_path1+x for x in data1]\n",
    "data2 = os.listdir(data_path2)\n",
    "data2 = [data_path2+x for x in data2]\n",
    "all_data = data1+data2\n",
    "all_data = all_data\n",
    "positives = 0\n",
    "negatives = 0\n",
    "\n",
    "# Set up pairs !!! NOT ALL-VS-ALL!!!\n",
    "data_pairs = []\n",
    "for i, data1 in enumerate(all_data):\n",
    "    print(i+1,\"/\",len(all_data),end=\"\\r\")\n",
    "    if i != 0:\n",
    "        subset = all_data[i:]\n",
    "    else:\n",
    "        subset = all_data\n",
    "    for data2 in subset:\n",
    "        if label_checker(data1,data2)[0] == float(0):\n",
    "            data_pairs.append((data1,data2))\n",
    "            negatives += 1\n",
    "        else:\n",
    "            positives += 1\n",
    "            data_pairs.append((data1,data2))\n",
    "\n",
    "\n",
    "write_log(f\"Positives: {positives}  Negatives: {negatives}\",logfile)\n",
    "write_log(f\"Ratios   : {round(positives/(positives+negatives),6)}    {round(negatives/(positives+negatives),6)}\",logfile)\n",
    "\n"
   ]
  },
  {
   "cell_type": "code",
   "execution_count": 9,
   "id": "e2f15ce3-2554-44b5-8b57-f8ab5e3c99a7",
   "metadata": {},
   "outputs": [],
   "source": [
    "# create DataLoader\n",
    "\n",
    "FinalLoader = DataLoader(SHOTDataset(out_path,data_pairs), batch_size=128,\n",
    "                        shuffle=True, collate_fn=my_collate_fn)"
   ]
  },
  {
   "cell_type": "code",
   "execution_count": 10,
   "id": "465754c4-3dc7-45ff-956c-a123d29d602f",
   "metadata": {},
   "outputs": [],
   "source": [
    "def time_format(sec):\n",
    "   sec = sec % (24 * 3600)\n",
    "   hour = sec // 3600\n",
    "   sec %= 3600\n",
    "   min = sec // 60\n",
    "   sec %= 60\n",
    "   return \"%02d:%02d:%02d\" % (hour, min, sec) "
   ]
  },
  {
   "cell_type": "code",
   "execution_count": null,
   "id": "bfb42b3b-4294-4788-905a-7346144005a4",
   "metadata": {},
   "outputs": [],
   "source": []
  },
  {
   "cell_type": "code",
   "execution_count": null,
   "id": "4eb77a48-401e-49b7-bb79-070958cc3a9d",
   "metadata": {},
   "outputs": [],
   "source": []
  },
  {
   "cell_type": "code",
   "execution_count": 11,
   "id": "eed21647-521a-4087-988c-e4738a310140",
   "metadata": {},
   "outputs": [],
   "source": [
    "def test(model, test_loader):\n",
    "    model = model.cuda()\n",
    "    criterion = nn.BCELoss(weight=None).cuda()\n",
    "    losses = []\n",
    "    mcc = []\n",
    "    acc = []\n",
    "    conf = []\n",
    "    true_val = []\n",
    "    pred_val = []\n",
    "    model.eval() \n",
    "    batches = len(test_loader)\n",
    "    with torch.no_grad():\n",
    "        #print(\"Test data:\")\n",
    "        for i_batch, sample_batched in enumerate(test_loader):\n",
    "            print(f\"{i_batch+1}/{batches}\", end=\"\\r\")\n",
    "            write_log(f\"     {i_batch+1}/{batches}\",logfile)\n",
    "            \n",
    "            x, y = sample_batched\n",
    "            y_pred = model(x)\n",
    "            #sig = nn.Sigmoid()\n",
    "            #y_pred_log = sig(y_pred)\n",
    "            #print(\"\\nTEST: \",y_pred_log,\"\\n\",y,\"\\n\\n\")\n",
    "            loss = criterion(y_pred, y)\n",
    "            losses.append(loss.item())\n",
    "            print(f\"{i_batch+1}/{batches}\", end=\"\\r\")\n",
    "            write_log(f\"     {i_batch+1}/{batches}\",logfile)\n",
    "\n",
    "            # Handle zero-division error and mark is at a complete random guess\n",
    "            try:\n",
    "                y_pred_class = torch.argmax(y_pred, dim=1)\n",
    "                y_true_class = torch.argmax(y, dim=1)  \n",
    "                true_val.append(y)\n",
    "                pred_val.append(y_pred)\n",
    "                mcc.append(MCC(y_true_class.cpu(), y_pred_class.cpu()))\n",
    "                acc.append(accuracy_score(y_true_class.cpu(), y_pred_class.cpu()))\n",
    "                conf.extend(y_pred[torch.arange(y_pred.size(0)), y_true_class].cpu().detach())\n",
    "            except RuntimeWarning:\n",
    "                mcc.append(0)\n",
    "                #breakpoint()\n",
    "            #mcc.append(MCC(y.cpu(), torch.round(y_pred_log.cpu())))\n",
    "            #print(\"\\n\",y_pred_log,\"\\n\",y,\"\\n\\n\")\n",
    "    losses = np.mean(losses)\n",
    "    mcc = np.mean(mcc)\n",
    "    acc = np.mean(acc)\n",
    "    conf = np.mean(conf)\n",
    "    return losses, mcc, acc, conf, true_val, pred_val"
   ]
  },
  {
   "cell_type": "code",
   "execution_count": 12,
   "id": "ae85dffe-6f26-4afb-873a-b47c6d6a3a66",
   "metadata": {},
   "outputs": [],
   "source": [
    "write_log(f\"Number of Batches:\",logfile)\n",
    "write_log(f\"FinalLoader: {len(FinalLoader)}\",logfile)"
   ]
  },
  {
   "cell_type": "code",
   "execution_count": 13,
   "id": "aa5ce4ad-c728-4280-af80-9c1d57cf943a",
   "metadata": {},
   "outputs": [
    {
     "name": "stdout",
     "output_type": "stream",
     "text": [
      "4069/4069\r"
     ]
    },
    {
     "ename": "TypeError",
     "evalue": "can't convert cuda:0 device type tensor to numpy. Use Tensor.cpu() to copy the tensor to host memory first.",
     "output_type": "error",
     "traceback": [
      "\u001b[0;31m---------------------------------------------------------------------------\u001b[0m",
      "\u001b[0;31mTypeError\u001b[0m                                 Traceback (most recent call last)",
      "Cell \u001b[0;32mIn[13], line 49\u001b[0m\n\u001b[1;32m     47\u001b[0m true_val_long \u001b[38;5;241m=\u001b[39m torch\u001b[38;5;241m.\u001b[39mcat(true_val)\n\u001b[1;32m     48\u001b[0m pred_val_long \u001b[38;5;241m=\u001b[39m torch\u001b[38;5;241m.\u001b[39mcat(pred_val)\n\u001b[0;32m---> 49\u001b[0m metrics_dict[\u001b[38;5;124m\"\u001b[39m\u001b[38;5;124mTrue_label\u001b[39m\u001b[38;5;124m\"\u001b[39m] \u001b[38;5;241m=\u001b[39m \u001b[43mnp\u001b[49m\u001b[38;5;241;43m.\u001b[39;49m\u001b[43marray\u001b[49m\u001b[43m(\u001b[49m\u001b[43mtrue_val_long\u001b[49m\u001b[43m,\u001b[49m\u001b[43m \u001b[49m\u001b[43mdtype\u001b[49m\u001b[38;5;241;43m=\u001b[39;49m\u001b[43mnp\u001b[49m\u001b[38;5;241;43m.\u001b[39;49m\u001b[43mfloat64\u001b[49m\u001b[43m)\u001b[49m\u001b[38;5;241m.\u001b[39mtolist()\n\u001b[1;32m     50\u001b[0m metrics_dict[\u001b[38;5;124m\"\u001b[39m\u001b[38;5;124mPredicted_label\u001b[39m\u001b[38;5;124m\"\u001b[39m] \u001b[38;5;241m=\u001b[39m np\u001b[38;5;241m.\u001b[39marray(pred_val_long, dtype\u001b[38;5;241m=\u001b[39mnp\u001b[38;5;241m.\u001b[39mfloat64)\u001b[38;5;241m.\u001b[39mtolist()\n\u001b[1;32m     51\u001b[0m \u001b[38;5;28;01mwith\u001b[39;00m \u001b[38;5;28mopen\u001b[39m(dump_file, \u001b[38;5;124m\"\u001b[39m\u001b[38;5;124mw\u001b[39m\u001b[38;5;124m\"\u001b[39m) \u001b[38;5;28;01mas\u001b[39;00m df:\n",
      "File \u001b[0;32m~/miniconda3/envs/pytorch3d/lib/python3.9/site-packages/torch/_tensor.py:957\u001b[0m, in \u001b[0;36mTensor.__array__\u001b[0;34m(self, dtype)\u001b[0m\n\u001b[1;32m    955\u001b[0m     \u001b[38;5;28;01mreturn\u001b[39;00m \u001b[38;5;28mself\u001b[39m\u001b[38;5;241m.\u001b[39mnumpy()\n\u001b[1;32m    956\u001b[0m \u001b[38;5;28;01melse\u001b[39;00m:\n\u001b[0;32m--> 957\u001b[0m     \u001b[38;5;28;01mreturn\u001b[39;00m \u001b[38;5;28;43mself\u001b[39;49m\u001b[38;5;241;43m.\u001b[39;49m\u001b[43mnumpy\u001b[49m\u001b[43m(\u001b[49m\u001b[43m)\u001b[49m\u001b[38;5;241m.\u001b[39mastype(dtype, copy\u001b[38;5;241m=\u001b[39m\u001b[38;5;28;01mFalse\u001b[39;00m)\n",
      "\u001b[0;31mTypeError\u001b[0m: can't convert cuda:0 device type tensor to numpy. Use Tensor.cpu() to copy the tensor to host memory first."
     ]
    }
   ],
   "source": [
    "model = SetTransformer(352,2,1)\n",
    "\n",
    "model= nn.DataParallel(model)  #FOR RUNNING ON MULTIPLE GPUS IF AVAILABLE\n",
    "model.load_state_dict(torch.load(params_path), strict=False)\n",
    "model.to(device)\n",
    "\n",
    "scaler = torch.cuda.amp.GradScaler()\n",
    "\n",
    "t0 = time.time()\n",
    "optimizer = torch.optim.Adam(model.parameters(), lr=1e-4)\n",
    "criterion = nn.BCELoss(weight=None).cuda()   #pos_weight=pos_weight\n",
    "train_losses = []\n",
    "valid_losses = [100,100,100,100,100,100,100,100,100,100]\n",
    "test_losses = []\n",
    "test_mcc = []\n",
    "test_acc = []\n",
    "test_conf = []\n",
    "valid_mcc = []\n",
    "valid_acc = []\n",
    "valid_conf = []\n",
    "train_mcc = []\n",
    "train_acc = []\n",
    "train_conf = []\n",
    "early_stop_counter = 0\n",
    "epochs = 15\n",
    "epoch = 0\n",
    "batches = len(FinalLoader)\n",
    "\n",
    "t1 = time.time()\n",
    "write_log(f\"TEST MODEL\",logfile)\n",
    "t_loss, t_mcc, t_acc, t_conf, true_val, pred_val = test(model, FinalLoader)\n",
    "\n",
    "#Log performance\n",
    "test_losses.append(t_loss)\n",
    "test_mcc.append(t_mcc)\n",
    "test_acc.append(t_acc)\n",
    "test_conf.append(t_conf)\n",
    "t2 = time.time()\n",
    "write_log(f\"Time total: {time_format(t2-t1)}\",logfile)\n",
    "\n",
    "#Save metrics for later use\n",
    "metrics_dict = {}\n",
    "metrics_dict[\"test_loss\"] = np.array(test_losses, dtype=np.float64).tolist()\n",
    "metrics_dict[\"test_mcc\"] = np.array(test_mcc, dtype=np.float64).tolist()\n",
    "metrics_dict[\"test_acc\"] = np.array(test_acc, dtype=np.float64).tolist()\n",
    "metrics_dict[\"test_conf\"] = np.array(test_conf, dtype=np.float64).tolist()\n",
    "true_val_long = torch.cat(true_val)\n",
    "pred_val_long = torch.cat(pred_val)\n",
    "metrics_dict[\"True_label\"] = np.array(true_val_long, dtype=np.float64).tolist()\n",
    "metrics_dict[\"Predicted_label\"] = np.array(pred_val_long, dtype=np.float64).tolist()\n",
    "with open(dump_file, \"w\") as df:\n",
    "    json.dump(metrics_dict, df) \n",
    "\n"
   ]
  },
  {
   "cell_type": "code",
   "execution_count": 16,
   "id": "943291b5-1981-4c2a-beca-b270d957b7cf",
   "metadata": {},
   "outputs": [],
   "source": [
    "#Save metrics for later use\n",
    "metrics_dict = {}\n",
    "metrics_dict[\"test_loss\"] = np.array(test_losses, dtype=np.float64).tolist()\n",
    "metrics_dict[\"test_mcc\"] = np.array(test_mcc, dtype=np.float64).tolist()\n",
    "metrics_dict[\"test_acc\"] = np.array(test_acc, dtype=np.float64).tolist()\n",
    "metrics_dict[\"test_conf\"] = np.array(test_conf, dtype=np.float64).tolist()\n",
    "true_val_long = torch.cat(true_val)\n",
    "pred_val_long = torch.cat(pred_val)\n",
    "metrics_dict[\"True_label\"] = np.array(true_val_long.cpu(), dtype=np.float64).tolist()\n",
    "metrics_dict[\"Predicted_label\"] = np.array(pred_val_long.cpu(), dtype=np.float64).tolist()\n",
    "with open(dump_file, \"w\") as df:\n",
    "    json.dump(metrics_dict, df) "
   ]
  },
  {
   "cell_type": "code",
   "execution_count": 15,
   "id": "cd4dff84-3d02-4a72-ab86-859f2c0b3ed6",
   "metadata": {},
   "outputs": [
    {
     "data": {
      "text/plain": [
       "tensor([[0., 1.],\n",
       "        [0., 1.],\n",
       "        [0., 1.],\n",
       "        [0., 1.]], device='cuda:0')"
      ]
     },
     "execution_count": 15,
     "metadata": {},
     "output_type": "execute_result"
    }
   ],
   "source": [
    "true_val_long[0:4]"
   ]
  },
  {
   "cell_type": "code",
   "execution_count": null,
   "id": "95043532-e681-452b-9e53-3722577b48ca",
   "metadata": {},
   "outputs": [],
   "source": []
  },
  {
   "cell_type": "code",
   "execution_count": null,
   "id": "71047745-9f44-47bd-a675-6bd2529bebc6",
   "metadata": {},
   "outputs": [],
   "source": [
    "t2 = time.time()\n",
    "print(f\"Time total: {time_format(t2-t1)}\")"
   ]
  },
  {
   "cell_type": "code",
   "execution_count": 22,
   "id": "bfbd1ee1-ebe6-4a19-aeb9-3eb5a5c4f40a",
   "metadata": {},
   "outputs": [],
   "source": [
    "def custom_argmax(tensor):\n",
    "    # Check if the value at index 0 is greater than 0.6\n",
    "    if tensor[0] > 0.60:\n",
    "        return 0\n",
    "    else:\n",
    "        return 1\n"
   ]
  },
  {
   "cell_type": "code",
   "execution_count": null,
   "id": "ed5e647f-3cbf-411d-976f-385819bc0579",
   "metadata": {},
   "outputs": [],
   "source": []
  },
  {
   "cell_type": "code",
   "execution_count": 23,
   "id": "5c7d5abe-8512-4f24-b81f-6cb8da3a2a2f",
   "metadata": {},
   "outputs": [],
   "source": [
    "# Get classification\n",
    "#y_pred_class = torch.argmax(pred_val_long.cpu(), dim=1)\n",
    "#y_true_class = torch.argmax(true_val_long.cpu(), dim=1)\n",
    "\n",
    "y_pred_class = [custom_argmax(x) for x in pred_val_long]\n",
    "y_true_class = [custom_argmax(x) for x in true_val_long]"
   ]
  },
  {
   "cell_type": "code",
   "execution_count": 24,
   "id": "6e6de9db-40a3-4ded-b110-d02568ad9079",
   "metadata": {},
   "outputs": [
    {
     "data": {
      "image/png": "[encoded data removed]",
      "text/plain": [
       "<Figure size 640x480 with 2 Axes>"
      ]
     },
     "metadata": {},
     "output_type": "display_data"
    }
   ],
   "source": [
    "# Plot for visualisation\n",
    "confusion_matrix = metrics.confusion_matrix(y_true_class, y_pred_class)\n",
    "cm_display = metrics.ConfusionMatrixDisplay(confusion_matrix = confusion_matrix, display_labels = [0, 1])\n",
    "cm_display.plot()\n",
    "plt.savefig(\"./Results/confusion60.jpg\")\n",
    "plt.show()"
   ]
  },
  {
   "cell_type": "code",
   "execution_count": null,
   "id": "dcb44f7a-adf2-4b22-8331-d9b769b89970",
   "metadata": {},
   "outputs": [],
   "source": []
  },
  {
   "cell_type": "code",
   "execution_count": null,
   "id": "7142f556-0767-4949-8ec1-907891b069a1",
   "metadata": {},
   "outputs": [],
   "source": []
  },
  {
   "cell_type": "code",
   "execution_count": null,
   "id": "29b6f9ef-e2fc-4010-9305-a1504d72b56b",
   "metadata": {},
   "outputs": [],
   "source": []
  },
  {
   "cell_type": "code",
   "execution_count": null,
   "id": "291e819b-3a4a-43c3-b024-b29ae9bb9e99",
   "metadata": {},
   "outputs": [],
   "source": []
  }
 ],
 "metadata": {
  "kernelspec": {
   "display_name": "pytorch3d_kernel",
   "language": "python",
   "name": "pytorch3d_kernel"
  },
  "language_info": {
   "codemirror_mode": {
    "name": "ipython",
    "version": 3
   },
   "file_extension": ".py",
   "mimetype": "text/x-python",
   "name": "python",
   "nbconvert_exporter": "python",
   "pygments_lexer": "ipython3",
   "version": "3.9.17"
  }
 },
 "nbformat": 4,
 "nbformat_minor": 5
}
